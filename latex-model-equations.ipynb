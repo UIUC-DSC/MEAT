{
 "cells": [
  {
   "cell_type": "markdown",
   "metadata": {},
   "source": [
    "**Probability of a country to have high water stress:**\n",
    "\n",
    "$\\widehat{p} = \\dfrac{\n",
    "1\n",
    "}{\n",
    "1 + exp^ -({\\begin{aligned}\n",
    "    &- 0.1476 \\\\\n",
    "    &- 101.0526 \\times water\\_per\\_capita\\\\\n",
    "    &- 11.4387 \\times cattle\\\\\n",
    "    &+ 14.9182 \\times total\\_withdrawals\\\\\n",
    "    \\end{aligned})\n",
    "}\n",
    "}$"
   ]
  },
  {
   "cell_type": "markdown",
   "metadata": {},
   "source": [
    "----------------------------------------------------------------------------------------------------------------------------------------------------------------------------------------------------------------------"
   ]
  },
  {
   "cell_type": "markdown",
   "metadata": {},
   "source": [
    "**Best non-regularized linear regression model:**\n",
    "\n",
    "\\begin{align*}\n",
    "\\widehat{ln\\_stress}= &+ 48.5995 \\\\\n",
    "&- 0.0243 \\times year \\\\\n",
    "&+ 3.4225 \\times agriculture\\_water \\\\\n",
    "&+ 1.4588 \\times industry\\_water \\\\\n",
    "&- 0.7301 \\times domestic\\_water \\\\\n",
    "&- 5.2225 \\times water\\_per\\_capita \\\\\n",
    "&+ 1.6691 \\times urban\\_population \\\\\n",
    "&- 0.0623 \\times state\\_capacity \\\\\n",
    "&- 1.8998 \\times cattle \\\\\n",
    "&+ 1.9507 \\times total\\_withdrawals \\\\\n",
    "&+ 7.2922 \\times cereal\\_yield \\\\\n",
    "&- 0.1495 \\times control\\_of\\_corruption \\\\\n",
    "&- 1.5943 \\times hydro\\_electricity \\\\\n",
    "&- 1.1536 \\times permanent\\_cropland \\\\\n",
    "&+ 4.6274 \\times population\\_density \\\\\n",
    "\\end{align*}\n",
    "\n",
    "*Test fold R^2 Values:* **[0.59364218 0.58587946 0.60210839 0.58657747 0.58875439]**\n",
    "\n",
    "*Test fold R^2 Mean:* **0.5913923783541138**\n",
    "\n",
    "*Test fold R^2 STD:* **0.006007149214180662**"
   ]
  },
  {
   "cell_type": "markdown",
   "metadata": {},
   "source": [
    "----------------------------------------------------------------------------------------------------------------------------------------------------------------------------------------------------------------------"
   ]
  },
  {
   "cell_type": "markdown",
   "metadata": {},
   "source": [
    "**Best robust regularized linear regression model (Huber Loss with L2 penalty):**\n",
    "\n",
    "\\begin{align*}\n",
    "\\widehat{ln\\_stress}= &+ 0.0008481344470084162 \\\\\n",
    "&+ 0.000452 \\times year \\\\\n",
    "&+ 2.271055 \\times agriculture\\_water \\\\\n",
    "&- 0.484360 \\times industry\\_water \\\\\n",
    "&- 1.812719 \\times domestic\\_water \\\\\n",
    "&- 0.896929 \\times water\\_per\\_capita \\\\\n",
    "&+ 1.433458 \\times urban\\_population \\\\\n",
    "&+ 0.765798 \\times state\\_capacity \\\\\n",
    "&+ 0.219886 \\times cattle \\\\\n",
    "&+ 0.486479 \\times total\\_withdrawals \\\\\n",
    "&+ 0.555398 \\times cereal\\_yield \\\\\n",
    "&+ 0.790909 \\times control\\_of\\_corruption \\\\\n",
    "&- 2.146425 \\times hydro\\_electricity \\\\\n",
    "&- 0.062685 \\times permanent\\_cropland \\\\\n",
    "&+ 0.337988 \\times population\\_density \\\\\n",
    "\\end{align*}\n",
    "\n",
    "*Sigma:* **61**\n",
    "\n",
    "*Lambda:* **0**\n",
    "\n",
    "*Test fold R^2 Values:* **[0.58557939 0.57166726 0.59940175 0.57415006 0.5879378]**\n",
    "\n",
    "*Test fold R^2 Mean:* **0.5837472552661485**\n",
    "\n",
    "*Test fold R^2 STD:* **0.01004005043142719**"
   ]
  },
  {
   "cell_type": "markdown",
   "metadata": {},
   "source": []
  },
  {
   "cell_type": "markdown",
   "metadata": {},
   "source": [
    "$\\widehat{odds} = \\dfrac{\n",
    "\\widehat{p}\n",
    "}{\n",
    "1 - \\widehat{p}\n",
    "} = e^{\\begin{aligned}\n",
    "    &- 0.1476 \\\\\n",
    "    &- 101.0526 \\times water\\_per\\_capita\\\\\n",
    "    &- 11.4387 \\times cattle\\\\\n",
    "    &+ 14.9182 \\times total\\_withdrawals\\\\\n",
    "    \\end{aligned}\n",
    "}\n",
    "$"
   ]
  },
  {
   "cell_type": "markdown",
   "metadata": {},
   "source": [
    "$\\widehat{odds}  = e^{\\left(\n",
    "    \\begin{aligned}\n",
    "        &- 0.1476 \\\\\n",
    "        &- 101.0526 \\times \\text{water\\_per\\_capita}\\\\\n",
    "        &- 11.4387 \\times \\text{cattle}\\\\\n",
    "        &+ 14.9182 \\times \\text{total\\_withdrawals}\\\\\n",
    "    \\end{aligned}\n",
    "\\right)}$"
   ]
  },
  {
   "cell_type": "markdown",
   "metadata": {},
   "source": []
  }
 ],
 "metadata": {
  "language_info": {
   "name": "python"
  }
 },
 "nbformat": 4,
 "nbformat_minor": 2
}
