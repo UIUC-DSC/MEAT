{
 "cells": [
  {
   "cell_type": "code",
   "execution_count": 31,
   "metadata": {},
   "outputs": [],
   "source": [
    "import pandas as pd\n",
    "import seaborn as sns\n",
    "import matplotlib.pyplot as plt\n",
    "from sklearn.impute import KNNImputer\n",
    "from sklearn import preprocessing"
   ]
  },
  {
   "cell_type": "code",
   "execution_count": 32,
   "metadata": {},
   "outputs": [],
   "source": [
    "df = pd.read_csv(\"df_merged.csv\")"
   ]
  },
  {
   "cell_type": "markdown",
   "metadata": {},
   "source": [
    "## Data Cleaning"
   ]
  },
  {
   "cell_type": "markdown",
   "metadata": {},
   "source": [
    "### KNN Imputations"
   ]
  },
  {
   "cell_type": "code",
   "execution_count": 33,
   "metadata": {},
   "outputs": [],
   "source": [
    "imputer = KNNImputer(n_neighbors = 5)"
   ]
  },
  {
   "cell_type": "code",
   "execution_count": 34,
   "metadata": {},
   "outputs": [
    {
     "data": {
      "text/plain": [
       "Unnamed: 0                 0\n",
       "country                    0\n",
       "code                       0\n",
       "year                       0\n",
       "stress                     0\n",
       "agriculture_water          0\n",
       "industry_water            17\n",
       "domestic_water             0\n",
       "water_per_capita          16\n",
       "urban_population           0\n",
       "state_capacity             0\n",
       "cattle                    16\n",
       "total_withdrawals          0\n",
       "cereal_yield              48\n",
       "control_of_corruption    139\n",
       "hydro_electricity        717\n",
       "permanent_cropland         0\n",
       "population_density         0\n",
       "dtype: int64"
      ]
     },
     "execution_count": 34,
     "metadata": {},
     "output_type": "execute_result"
    }
   ],
   "source": [
    "df.isna().sum()"
   ]
  },
  {
   "cell_type": "code",
   "execution_count": 35,
   "metadata": {},
   "outputs": [],
   "source": [
    "imputed_values = imputer.fit_transform(df[['cattle', 'total_withdrawals']])\n",
    "df[['cattle', 'total_withdrawals']] = imputed_values"
   ]
  },
  {
   "cell_type": "code",
   "execution_count": 36,
   "metadata": {},
   "outputs": [
    {
     "data": {
      "text/plain": [
       "Unnamed: 0                 0\n",
       "country                    0\n",
       "code                       0\n",
       "year                       0\n",
       "stress                     0\n",
       "agriculture_water          0\n",
       "industry_water            17\n",
       "domestic_water             0\n",
       "water_per_capita          16\n",
       "urban_population           0\n",
       "state_capacity             0\n",
       "cattle                     0\n",
       "total_withdrawals          0\n",
       "cereal_yield              48\n",
       "control_of_corruption    139\n",
       "hydro_electricity        717\n",
       "permanent_cropland         0\n",
       "population_density         0\n",
       "dtype: int64"
      ]
     },
     "execution_count": 36,
     "metadata": {},
     "output_type": "execute_result"
    }
   ],
   "source": [
    "df.isna().sum()"
   ]
  },
  {
   "cell_type": "code",
   "execution_count": 37,
   "metadata": {},
   "outputs": [],
   "source": [
    "imputed_values = imputer.fit_transform(df[['state_capacity', 'control_of_corruption']])\n",
    "df[['state_capacity', 'control_of_corruption']] = imputed_values"
   ]
  },
  {
   "cell_type": "code",
   "execution_count": 38,
   "metadata": {},
   "outputs": [
    {
     "data": {
      "text/plain": [
       "Unnamed: 0                 0\n",
       "country                    0\n",
       "code                       0\n",
       "year                       0\n",
       "stress                     0\n",
       "agriculture_water          0\n",
       "industry_water            17\n",
       "domestic_water             0\n",
       "water_per_capita          16\n",
       "urban_population           0\n",
       "state_capacity             0\n",
       "cattle                     0\n",
       "total_withdrawals          0\n",
       "cereal_yield              48\n",
       "control_of_corruption      0\n",
       "hydro_electricity        717\n",
       "permanent_cropland         0\n",
       "population_density         0\n",
       "dtype: int64"
      ]
     },
     "execution_count": 38,
     "metadata": {},
     "output_type": "execute_result"
    }
   ],
   "source": [
    "df.isna().sum()"
   ]
  },
  {
   "cell_type": "code",
   "execution_count": 39,
   "metadata": {},
   "outputs": [],
   "source": [
    "imputed_values = imputer.fit_transform(df[['agriculture_water', 'industry_water']])\n",
    "df[['agriculture_water', 'industry_water']] = imputed_values"
   ]
  },
  {
   "cell_type": "markdown",
   "metadata": {},
   "source": [
    "### Column Mean Imputations"
   ]
  },
  {
   "cell_type": "code",
   "execution_count": 40,
   "metadata": {},
   "outputs": [],
   "source": [
    "df.fillna(df[['stress',\n",
    "                          'agriculture_water',\n",
    "                          'industry_water',\n",
    "                          'domestic_water',\n",
    "                          'water_per_capita',\n",
    "                          'urban_population',\n",
    "                          'state_capacity',\n",
    "                          'cattle',\n",
    "                          'total_withdrawals',\n",
    "                          'cereal_yield',\n",
    "                          'control_of_corruption',\n",
    "                          'hydro_electricity',\n",
    "                          'permanent_cropland',\n",
    "                          'population_density'\n",
    "                          ]].mean(), inplace = True)"
   ]
  },
  {
   "cell_type": "code",
   "execution_count": 41,
   "metadata": {},
   "outputs": [
    {
     "data": {
      "text/plain": [
       "Unnamed: 0               0\n",
       "country                  0\n",
       "code                     0\n",
       "year                     0\n",
       "stress                   0\n",
       "agriculture_water        0\n",
       "industry_water           0\n",
       "domestic_water           0\n",
       "water_per_capita         0\n",
       "urban_population         0\n",
       "state_capacity           0\n",
       "cattle                   0\n",
       "total_withdrawals        0\n",
       "cereal_yield             0\n",
       "control_of_corruption    0\n",
       "hydro_electricity        0\n",
       "permanent_cropland       0\n",
       "population_density       0\n",
       "dtype: int64"
      ]
     },
     "execution_count": 41,
     "metadata": {},
     "output_type": "execute_result"
    }
   ],
   "source": [
    "df.isna().sum()"
   ]
  },
  {
   "cell_type": "markdown",
   "metadata": {},
   "source": [
    "## Data Preparation"
   ]
  },
  {
   "cell_type": "code",
   "execution_count": 42,
   "metadata": {},
   "outputs": [],
   "source": [
    "features_matrix = df[['agriculture_water',\n",
    "                            'industry_water',\n",
    "                            'domestic_water',\n",
    "                            'water_per_capita',\n",
    "                            'urban_population', \n",
    "                            'state_capacity', \n",
    "                            'cattle', \n",
    "                            'total_withdrawals',\n",
    "                            'cereal_yield', \n",
    "                            'control_of_corruption', \n",
    "                            'hydro_electricity',\n",
    "                            'permanent_cropland', \n",
    "                            'population_density'\n",
    "                            ]]"
   ]
  },
  {
   "cell_type": "code",
   "execution_count": 43,
   "metadata": {},
   "outputs": [],
   "source": [
    "# df.to_csv(\"df_final_unnormalized.csv\")"
   ]
  },
  {
   "cell_type": "markdown",
   "metadata": {},
   "source": [
    "### Normalization"
   ]
  },
  {
   "cell_type": "code",
   "execution_count": 44,
   "metadata": {},
   "outputs": [],
   "source": [
    "x = features_matrix.values\n",
    "min_max_scaler = preprocessing.MinMaxScaler()\n",
    "x_scaled = min_max_scaler.fit_transform(x)\n",
    "df[['agriculture_water',\n",
    "          'industry_water',\n",
    "          'domestic_water',\n",
    "          'water_per_capita',\n",
    "          'urban_population',\n",
    "          'state_capacity',\n",
    "          'cattle',\n",
    "          'total_withdrawals',\n",
    "          'cereal_yield', \n",
    "          'control_of_corruption', \n",
    "          'hydro_electricity', \n",
    "          'permanent_cropland', \n",
    "          'population_density'\n",
    "          ]] = x_scaled"
   ]
  },
  {
   "cell_type": "code",
   "execution_count": 45,
   "metadata": {},
   "outputs": [],
   "source": [
    "# df.to_csv(\"df_final.csv\")"
   ]
  }
 ],
 "metadata": {
  "kernelspec": {
   "display_name": "Python 3",
   "language": "python",
   "name": "python3"
  },
  "language_info": {
   "codemirror_mode": {
    "name": "ipython",
    "version": 3
   },
   "file_extension": ".py",
   "mimetype": "text/x-python",
   "name": "python",
   "nbconvert_exporter": "python",
   "pygments_lexer": "ipython3",
   "version": "3.11.1"
  }
 },
 "nbformat": 4,
 "nbformat_minor": 2
}
